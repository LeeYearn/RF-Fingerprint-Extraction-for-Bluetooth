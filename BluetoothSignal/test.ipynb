{
 "cells": [
  {
   "cell_type": "code",
   "execution_count": 1,
   "metadata": {},
   "outputs": [
    {
     "name": "stdout",
     "output_type": "stream",
     "text": [
      "读取文件: D:\\RF-Fingerprint-Extraction-for-Bluetooth\\BluetoothSignal\\signal\\ble_channel39_01.iq\n"
     ]
    },
    {
     "name": "stderr",
     "output_type": "stream",
     "text": [
      "Processing:   0%|                                                                          | 0.00/9.66G [00:00<?, ?B/s]C:\\Users\\admin\\anaconda3\\lib\\site-packages\\scipy\\signal\\_peak_finding.py:261: ComplexWarning: Casting complex values to real discards the imaginary part\n",
      "  value = np.asarray(value, order='C', dtype=np.float64)\n",
      "Processing:   1%|▌                                                                 | 83.1M/9.66G [00:00<00:11, 824MB/s]"
     ]
    },
    {
     "name": "stdout",
     "output_type": "stream",
     "text": [
      "❌ 前导码未检测到，跳过\n",
      "❌ 前导码未检测到，跳过\n",
      "❌ 超过最大循环次数，强制退出\n",
      "❌ 前导码未检测到，跳过\n",
      "❌ 超过最大循环次数，强制退出\n",
      "❌ 前导码未检测到，跳过\n",
      "❌ 超过最大循环次数，强制退出\n"
     ]
    },
    {
     "name": "stderr",
     "output_type": "stream",
     "text": [
      "Processing:   4%|██▍                                                                | 346M/9.66G [00:00<00:10, 866MB/s]"
     ]
    },
    {
     "name": "stdout",
     "output_type": "stream",
     "text": [
      "❌ 前导码未检测到，跳过\n",
      "❌ 超过最大循环次数，强制退出\n",
      "❌ 前导码未检测到，跳过\n",
      "❌ 超过最大循环次数，强制退出\n",
      "❌ 前导码未检测到，跳过\n",
      "❌ 超过最大循环次数，强制退出\n",
      "❌ 前导码未检测到，跳过\n",
      "❌ 超过最大循环次数，强制退出\n"
     ]
    },
    {
     "name": "stderr",
     "output_type": "stream",
     "text": [
      "Processing:   6%|████▏                                                              | 607M/9.66G [00:00<00:10, 866MB/s]"
     ]
    },
    {
     "name": "stdout",
     "output_type": "stream",
     "text": [
      "❌ 前导码未检测到，跳过\n",
      "❌ 超过最大循环次数，强制退出\n",
      "❌ 前导码未检测到，跳过\n",
      "❌ 超过最大循环次数，强制退出\n",
      "❌ 前导码未检测到，跳过\n",
      "❌ 超过最大循环次数，强制退出\n",
      "❌ 前导码未检测到，跳过\n",
      "❌ 超过最大循环次数，强制退出\n",
      "❌ 前导码未检测到，跳过\n",
      "❌ 超过最大循环次数，强制退出\n",
      "❌ 前导码未检测到，跳过\n",
      "❌ 超过最大循环次数，强制退出\n"
     ]
    },
    {
     "name": "stderr",
     "output_type": "stream",
     "text": [
      "Processing:   9%|██████                                                             | 869M/9.66G [00:01<00:10, 866MB/s]"
     ]
    },
    {
     "name": "stdout",
     "output_type": "stream",
     "text": [
      "❌ 前导码未检测到，跳过\n",
      "❌ 超过最大循环次数，强制退出\n",
      "❌ 前导码未检测到，跳过\n",
      "❌ 超过最大循环次数，强制退出\n",
      "❌ 前导码未检测到，跳过\n",
      "❌ 超过最大循环次数，强制退出\n",
      "❌ 前导码未检测到，跳过\n",
      "❌ 超过最大循环次数，强制退出\n",
      "❌ 前导码未检测到，跳过\n",
      "❌ 超过最大循环次数，强制退出\n"
     ]
    },
    {
     "name": "stderr",
     "output_type": "stream",
     "text": [
      "Processing:  11%|███████                                                           | 1.04G/9.66G [00:01<00:10, 853MB/s]"
     ]
    },
    {
     "name": "stdout",
     "output_type": "stream",
     "text": [
      "❌ 前导码未检测到，跳过\n",
      "❌ 超过最大循环次数，强制退出\n",
      "❌ 前导码未检测到，跳过\n",
      "❌ 超过最大循环次数，强制退出\n",
      "❌ 前导码未检测到，跳过\n",
      "❌ 超过最大循环次数，强制退出\n",
      "❌ 前导码未检测到，跳过\n",
      "❌ 超过最大循环次数，强制退出\n",
      "❌ 前导码未检测到，跳过\n",
      "❌ 超过最大循环次数，强制退出\n",
      "❌ 前导码未检测到，跳过\n",
      "❌ 超过最大循环次数，强制退出\n",
      "❌ 前导码未检测到，跳过\n",
      "❌ 超过最大循环次数，强制退出\n"
     ]
    },
    {
     "name": "stderr",
     "output_type": "stream",
     "text": [
      "Processing:  13%|████████▎                                                         | 1.22G/9.66G [00:01<00:09, 862MB/s]"
     ]
    },
    {
     "name": "stdout",
     "output_type": "stream",
     "text": [
      "❌ 前导码未检测到，跳过\n",
      "❌ 超过最大循环次数，强制退出\n",
      "❌ 前导码未检测到，跳过\n",
      "❌ 超过最大循环次数，强制退出\n",
      "❌ 前导码未检测到，跳过\n",
      "❌ 超过最大循环次数，强制退出\n",
      "❌ 前导码未检测到，跳过\n",
      "❌ 超过最大循环次数，强制退出\n",
      "❌ 前导码未检测到，跳过\n",
      "❌ 超过最大循环次数，强制退出\n"
     ]
    },
    {
     "name": "stderr",
     "output_type": "stream",
     "text": [
      "Processing:  15%|██████████                                                        | 1.48G/9.66G [00:01<00:09, 863MB/s]"
     ]
    },
    {
     "name": "stdout",
     "output_type": "stream",
     "text": [
      "❌ 前导码未检测到，跳过\n",
      "❌ 超过最大循环次数，强制退出\n",
      "❌ 前导码未检测到，跳过\n",
      "❌ 超过最大循环次数，强制退出\n",
      "❌ 前导码未检测到，跳过\n",
      "❌ 超过最大循环次数，强制退出\n",
      "❌ 前导码未检测到，跳过\n",
      "❌ 超过最大循环次数，强制退出\n",
      "❌ 前导码未检测到，跳过\n",
      "❌ 超过最大循环次数，强制退出\n"
     ]
    },
    {
     "name": "stderr",
     "output_type": "stream",
     "text": [
      "Processing:  17%|███████████▎                                                      | 1.65G/9.66G [00:01<00:09, 802MB/s]"
     ]
    },
    {
     "name": "stdout",
     "output_type": "stream",
     "text": [
      "❌ 前导码未检测到，跳过\n",
      "❌ 超过最大循环次数，强制退出\n",
      "❌ 前导码未检测到，跳过\n",
      "❌ 超过最大循环次数，强制退出\n",
      "❌ 前导码未检测到，跳过\n",
      "❌ 超过最大循环次数，强制退出\n"
     ]
    },
    {
     "name": "stderr",
     "output_type": "stream",
     "text": [
      "Processing:  20%|█████████████                                                     | 1.90G/9.66G [00:02<00:09, 826MB/s]"
     ]
    },
    {
     "name": "stdout",
     "output_type": "stream",
     "text": [
      "❌ 前导码未检测到，跳过\n",
      "❌ 超过最大循环次数，强制退出\n",
      "❌ 前导码未检测到，跳过\n",
      "❌ 超过最大循环次数，强制退出\n",
      "❌ 前导码未检测到，跳过\n",
      "❌ 超过最大循环次数，强制退出\n",
      "❌ 前导码未检测到，跳过\n",
      "❌ 超过最大循环次数，强制退出\n",
      "❌ 前导码未检测到，跳过\n",
      "❌ 超过最大循环次数，强制退出\n",
      "❌ 前导码未检测到，跳过"
     ]
    },
    {
     "name": "stderr",
     "output_type": "stream",
     "text": [
      "Processing:  21%|█████████████▌                                                    | 1.99G/9.66G [00:02<00:09, 803MB/s]"
     ]
    },
    {
     "name": "stdout",
     "output_type": "stream",
     "text": [
      "\n",
      "❌ 超过最大循环次数，强制退出\n",
      "❌ 前导码未检测到，跳过\n",
      "❌ 超过最大循环次数，强制退出\n",
      "❌ 前导码未检测到，跳过\n",
      "❌ 超过最大循环次数，强制退出\n",
      "❌ 前导码未检测到，跳过\n",
      "❌ 超过最大循环次数，强制退出\n",
      "❌ 前导码未检测到，跳过\n",
      "❌ 超过最大循环次数，强制退出\n"
     ]
    },
    {
     "name": "stderr",
     "output_type": "stream",
     "text": [
      "Processing:  23%|███████████████▎                                                  | 2.25G/9.66G [00:02<00:08, 839MB/s]"
     ]
    },
    {
     "name": "stdout",
     "output_type": "stream",
     "text": [
      "❌ 前导码未检测到，跳过\n",
      "❌ 超过最大循环次数，强制退出\n",
      "❌ 前导码未检测到，跳过\n",
      "❌ 超过最大循环次数，强制退出\n",
      "❌ 前导码未检测到，跳过\n",
      "❌ 超过最大循环次数，强制退出\n",
      "❌ 前导码未检测到，跳过\n",
      "❌ 超过最大循环次数，强制退出\n",
      "❌ 前导码未检测到，跳过"
     ]
    },
    {
     "name": "stderr",
     "output_type": "stream",
     "text": [
      "Processing:  25%|████████████████▍                                                 | 2.42G/9.66G [00:02<00:08, 839MB/s]"
     ]
    },
    {
     "name": "stdout",
     "output_type": "stream",
     "text": [
      "\n",
      "❌ 超过最大循环次数，强制退出\n",
      "❌ 前导码未检测到，跳过\n",
      "❌ 超过最大循环次数，强制退出\n",
      "❌ 前导码未检测到，跳过\n",
      "❌ 超过最大循环次数，强制退出\n",
      "❌ 前导码未检测到，跳过\n",
      "❌ 超过最大循环次数，强制退出\n",
      "❌ 前导码未检测到，跳过\n",
      "❌ 超过最大循环次数，强制退出\n"
     ]
    },
    {
     "name": "stderr",
     "output_type": "stream",
     "text": [
      "Processing:  27%|█████████████████▋                                                | 2.59G/9.66G [00:03<00:08, 841MB/s]"
     ]
    },
    {
     "name": "stdout",
     "output_type": "stream",
     "text": [
      "❌ 前导码未检测到，跳过\n",
      "❌ 超过最大循环次数，强制退出\n",
      "❌ 前导码未检测到，跳过\n",
      "❌ 超过最大循环次数，强制退出\n",
      "❌ 前导码未检测到，跳过\n",
      "❌ 超过最大循环次数，强制退出\n",
      "❌ 前导码未检测到，跳过\n",
      "❌ 超过最大循环次数，强制退出\n"
     ]
    },
    {
     "name": "stderr",
     "output_type": "stream",
     "text": [
      "Processing:  29%|██████████████████▊                                               | 2.76G/9.66G [00:03<00:08, 843MB/s]"
     ]
    },
    {
     "name": "stdout",
     "output_type": "stream",
     "text": [
      "❌ 前导码未检测到，跳过\n",
      "❌ 超过最大循环次数，强制退出\n",
      "❌ 前导码未检测到，跳过\n",
      "❌ 超过最大循环次数，强制退出\n"
     ]
    },
    {
     "name": "stderr",
     "output_type": "stream",
     "text": [
      "Processing:  31%|████████████████████▌                                             | 3.01G/9.66G [00:03<00:07, 845MB/s]"
     ]
    },
    {
     "name": "stdout",
     "output_type": "stream",
     "text": [
      "❌ 前导码未检测到，跳过\n",
      "❌ 超过最大循环次数，强制退出\n",
      "❌ 前导码未检测到，跳过\n",
      "❌ 超过最大循环次数，强制退出\n",
      "❌ 前导码未检测到，跳过\n",
      "❌ 超过最大循环次数，强制退出\n",
      "❌ 前导码未检测到，跳过\n",
      "❌ 超过最大循环次数，强制退出\n",
      "❌ 前导码未检测到，跳过\n",
      "❌ 超过最大循环次数，强制退出\n",
      "❌ 前导码未检测到，跳过"
     ]
    },
    {
     "name": "stderr",
     "output_type": "stream",
     "text": [
      "Processing:  33%|█████████████████████▊                                            | 3.19G/9.66G [00:03<00:08, 741MB/s]"
     ]
    },
    {
     "name": "stdout",
     "output_type": "stream",
     "text": [
      "\n",
      "❌ 超过最大循环次数，强制退出\n",
      "❌ 前导码未检测到，跳过\n",
      "❌ 超过最大循环次数，强制退出\n",
      "❌ 前导码未检测到，跳过\n",
      "❌ 超过最大循环次数，强制退出\n",
      "❌ 前导码未检测到，跳过\n",
      "❌ 超过最大循环次数，强制退出\n"
     ]
    },
    {
     "name": "stderr",
     "output_type": "stream",
     "text": [
      "Processing:  34%|██████████████████████▋                                           | 3.33G/9.66G [00:04<00:12, 521MB/s]"
     ]
    },
    {
     "name": "stdout",
     "output_type": "stream",
     "text": [
      "❌ 前导码未检测到，跳过\n",
      "❌ 超过最大循环次数，强制退出\n",
      "❌ 前导码未检测到，跳过\n",
      "❌ 超过最大循环次数，强制退出\n",
      "❌ 前导码未检测到，跳过\n",
      "❌ 超过最大循环次数，强制退出\n"
     ]
    },
    {
     "name": "stderr",
     "output_type": "stream",
     "text": [
      "Processing:  37%|████████████████████████                                          | 3.53G/9.66G [00:04<00:14, 421MB/s]"
     ]
    },
    {
     "name": "stdout",
     "output_type": "stream",
     "text": [
      "❌ 前导码未检测到，跳过\n",
      "❌ 超过最大循环次数，强制退出\n"
     ]
    },
    {
     "name": "stderr",
     "output_type": "stream",
     "text": [
      "Processing:  37%|████████████████████████▋                                         | 3.61G/9.66G [00:04<00:15, 394MB/s]"
     ]
    },
    {
     "name": "stdout",
     "output_type": "stream",
     "text": [
      "❌ 前导码未检测到，跳过\n",
      "❌ 超过最大循环次数，强制退出\n",
      "❌ 前导码未检测到，跳过\n",
      "❌ 超过最大循环次数，强制退出\n",
      "❌ 前导码未检测到，跳过\n",
      "❌ 超过最大循环次数，强制退出\n"
     ]
    },
    {
     "name": "stderr",
     "output_type": "stream",
     "text": [
      "Processing:  39%|█████████████████████████▊                                        | 3.77G/9.66G [00:05<00:15, 380MB/s]"
     ]
    },
    {
     "name": "stdout",
     "output_type": "stream",
     "text": [
      "❌ 前导码未检测到，跳过\n",
      "❌ 超过最大循环次数，强制退出\n",
      "❌ 前导码未检测到，跳过\n",
      "❌ 超过最大循环次数，强制退出\n",
      "❌ 前导码未检测到，跳过\n",
      "❌ 超过最大循环次数，强制退出\n"
     ]
    },
    {
     "name": "stderr",
     "output_type": "stream",
     "text": [
      "Processing:  40%|██████████████████████████▌                                       | 3.88G/9.66G [00:05<00:16, 354MB/s]"
     ]
    },
    {
     "name": "stdout",
     "output_type": "stream",
     "text": [
      "❌ 前导码未检测到，跳过\n",
      "❌ 超过最大循环次数，强制退出\n",
      "❌ 前导码未检测到，跳过\n",
      "❌ 超过最大循环次数，强制退出\n"
     ]
    },
    {
     "name": "stderr",
     "output_type": "stream",
     "text": [
      "Processing:  41%|███████████████████████████                                       | 3.96G/9.66G [00:05<00:16, 348MB/s]"
     ]
    },
    {
     "name": "stdout",
     "output_type": "stream",
     "text": [
      "❌ 前导码未检测到，跳过\n",
      "❌ 超过最大循环次数，强制退出\n"
     ]
    },
    {
     "name": "stderr",
     "output_type": "stream",
     "text": [
      "Processing:  42%|███████████████████████████▊                                      | 4.07G/9.66G [00:06<00:15, 357MB/s]"
     ]
    },
    {
     "name": "stdout",
     "output_type": "stream",
     "text": [
      "❌ 前导码未检测到，跳过\n",
      "❌ 超过最大循环次数，强制退出\n",
      "❌ 前导码未检测到，跳过\n",
      "❌ 超过最大循环次数，强制退出\n"
     ]
    },
    {
     "name": "stderr",
     "output_type": "stream",
     "text": [
      "Processing:  43%|████████████████████████████▍                                     | 4.17G/9.66G [00:06<00:16, 328MB/s]"
     ]
    },
    {
     "name": "stdout",
     "output_type": "stream",
     "text": [
      "❌ 前导码未检测到，跳过\n",
      "❌ 超过最大循环次数，强制退出\n",
      "❌ 前导码未检测到，跳过\n",
      "❌ 超过最大循环次数，强制退出\n"
     ]
    },
    {
     "name": "stderr",
     "output_type": "stream",
     "text": [
      "Processing:  45%|█████████████████████████████▍                                    | 4.31G/9.66G [00:06<00:16, 332MB/s]"
     ]
    },
    {
     "name": "stdout",
     "output_type": "stream",
     "text": [
      "❌ 前导码未检测到，跳过\n",
      "❌ 超过最大循环次数，强制退出\n"
     ]
    },
    {
     "name": "stderr",
     "output_type": "stream",
     "text": [
      "Processing:  46%|██████████████████████████████▏                                   | 4.42G/9.66G [00:07<00:14, 366MB/s]"
     ]
    },
    {
     "name": "stdout",
     "output_type": "stream",
     "text": [
      "❌ 前导码未检测到，跳过\n",
      "❌ 超过最大循环次数，强制退出\n"
     ]
    },
    {
     "name": "stderr",
     "output_type": "stream",
     "text": [
      "Processing:  47%|██████████████████████████████▉                                   | 4.53G/9.66G [00:07<00:14, 364MB/s]"
     ]
    },
    {
     "name": "stdout",
     "output_type": "stream",
     "text": [
      "❌ 前导码未检测到，跳过\n",
      "❌ 超过最大循环次数，强制退出\n",
      "❌ 前导码未检测到，跳过\n",
      "❌ 超过最大循环次数，强制退出\n"
     ]
    },
    {
     "name": "stderr",
     "output_type": "stream",
     "text": [
      "Processing:  48%|████████████████████████████████                                  | 4.69G/9.66G [00:07<00:13, 372MB/s]"
     ]
    },
    {
     "name": "stdout",
     "output_type": "stream",
     "text": [
      "❌ 前导码未检测到，跳过\n",
      "❌ 超过最大循环次数，强制退出\n",
      "❌ 前导码未检测到，跳过\n",
      "❌ 超过最大循环次数，强制退出\n"
     ]
    },
    {
     "name": "stderr",
     "output_type": "stream",
     "text": [
      "Processing:  49%|████████████████████████████████▌                                 | 4.76G/9.66G [00:08<00:14, 341MB/s]"
     ]
    },
    {
     "name": "stdout",
     "output_type": "stream",
     "text": [
      "❌ 前导码未检测到，跳过\n",
      "❌ 超过最大循环次数，强制退出\n",
      "❌ 前导码未检测到，跳过"
     ]
    },
    {
     "name": "stderr",
     "output_type": "stream",
     "text": [
      "Processing:  50%|████████████████████████████████▉                                 | 4.83G/9.66G [00:08<00:14, 332MB/s]"
     ]
    },
    {
     "name": "stdout",
     "output_type": "stream",
     "text": [
      "\n",
      "❌ 超过最大循环次数，强制退出\n",
      "❌ 前导码未检测到，跳过\n",
      "❌ 超过最大循环次数，强制退出\n"
     ]
    },
    {
     "name": "stderr",
     "output_type": "stream",
     "text": [
      "Processing:  51%|█████████████████████████████████▍                                | 4.90G/9.66G [00:08<00:14, 334MB/s]"
     ]
    },
    {
     "name": "stdout",
     "output_type": "stream",
     "text": [
      "❌ 前导码未检测到，跳过\n",
      "❌ 超过最大循环次数，强制退出\n",
      "❌ 前导码未检测到，跳过\n",
      "❌ 超过最大循环次数，强制退出\n",
      "❌ 前导码未检测到，跳过\n",
      "❌ 超过最大循环次数，强制退出\n",
      "❌ 前导码未检测到，跳过"
     ]
    },
    {
     "name": "stderr",
     "output_type": "stream",
     "text": [
      "Processing:  51%|█████████████████████████████████▉                                | 4.97G/9.66G [00:08<00:13, 342MB/s]"
     ]
    },
    {
     "name": "stdout",
     "output_type": "stream",
     "text": [
      "\n",
      "❌ 超过最大循环次数，强制退出\n",
      "❌ 前导码未检测到，跳过\n",
      "❌ 超过最大循环次数，强制退出\n",
      "❌ 前导码未检测到，跳过\n",
      "❌ 超过最大循环次数，强制退出\n"
     ]
    },
    {
     "name": "stderr",
     "output_type": "stream",
     "text": [
      "Processing:  53%|███████████████████████████████████▏                              | 5.15G/9.66G [00:09<00:13, 330MB/s]"
     ]
    },
    {
     "name": "stdout",
     "output_type": "stream",
     "text": [
      "❌ 前导码未检测到，跳过\n",
      "❌ 超过最大循环次数，强制退出\n",
      "❌ 前导码未检测到，跳过\n",
      "❌ 超过最大循环次数，强制退出\n",
      "❌ 前导码未检测到，跳过\n",
      "❌ 超过最大循环次数，强制退出\n"
     ]
    },
    {
     "name": "stderr",
     "output_type": "stream",
     "text": [
      "Processing:  54%|███████████████████████████████████▋                              | 5.22G/9.66G [00:09<00:13, 329MB/s]"
     ]
    },
    {
     "name": "stdout",
     "output_type": "stream",
     "text": [
      "❌ 前导码未检测到，跳过\n",
      "❌ 超过最大循环次数，强制退出\n",
      "❌ 前导码未检测到，跳过\n",
      "❌ 超过最大循环次数，强制退出\n",
      "❌ 前导码未检测到，跳过\n",
      "❌ 超过最大循环次数，强制退出\n"
     ]
    },
    {
     "name": "stderr",
     "output_type": "stream",
     "text": [
      "Processing:  56%|████████████████████████████████████▉                             | 5.40G/9.66G [00:10<00:12, 353MB/s]"
     ]
    },
    {
     "name": "stdout",
     "output_type": "stream",
     "text": [
      "❌ 前导码未检测到，跳过\n",
      "❌ 超过最大循环次数，强制退出\n"
     ]
    },
    {
     "name": "stderr",
     "output_type": "stream",
     "text": [
      "Processing:  58%|██████████████████████████████████████                            | 5.58G/9.66G [00:10<00:12, 337MB/s]"
     ]
    },
    {
     "name": "stdout",
     "output_type": "stream",
     "text": [
      "❌ 前导码未检测到，跳过\n",
      "❌ 超过最大循环次数，强制退出\n",
      "❌ 前导码未检测到，跳过\n",
      "❌ 超过最大循环次数，强制退出\n"
     ]
    },
    {
     "name": "stderr",
     "output_type": "stream",
     "text": [
      "Processing:  58%|██████████████████████████████████████▌                           | 5.65G/9.66G [00:10<00:12, 331MB/s]"
     ]
    },
    {
     "name": "stdout",
     "output_type": "stream",
     "text": [
      "❌ 前导码未检测到，跳过\n",
      "❌ 超过最大循环次数，强制退出\n"
     ]
    },
    {
     "name": "stderr",
     "output_type": "stream",
     "text": [
      "Processing:  60%|███████████████████████████████████████▌                          | 5.79G/9.66G [00:11<00:11, 342MB/s]"
     ]
    },
    {
     "name": "stdout",
     "output_type": "stream",
     "text": [
      "❌ 前导码未检测到，跳过\n",
      "❌ 超过最大循环次数，强制退出\n"
     ]
    },
    {
     "name": "stderr",
     "output_type": "stream",
     "text": [
      "Processing:  61%|████████████████████████████████████████▎                         | 5.89G/9.66G [00:11<00:10, 345MB/s]"
     ]
    },
    {
     "name": "stdout",
     "output_type": "stream",
     "text": [
      "❌ 前导码未检测到，跳过\n",
      "❌ 超过最大循环次数，强制退出\n",
      "❌ 前导码未检测到，跳过\n",
      "❌ 超过最大循环次数，强制退出\n",
      "❌ 前导码未检测到，跳过\n",
      "❌ 超过最大循环次数，强制退出\n",
      "❌ 前导码未检测到，跳过\n",
      "❌ 超过最大循环次数，强制退出\n"
     ]
    },
    {
     "name": "stderr",
     "output_type": "stream",
     "text": [
      "Processing:  63%|█████████████████████████████████████████▎                        | 6.04G/9.66G [00:11<00:10, 361MB/s]"
     ]
    },
    {
     "name": "stdout",
     "output_type": "stream",
     "text": [
      "❌ 前导码未检测到，跳过\n",
      "❌ 超过最大循环次数，强制退出\n",
      "❌ 前导码未检测到，跳过\n",
      "❌ 超过最大循环次数，强制退出\n"
     ]
    },
    {
     "name": "stderr",
     "output_type": "stream",
     "text": [
      "Processing:  64%|██████████████████████████████████████████▏                       | 6.18G/9.66G [00:12<00:10, 329MB/s]"
     ]
    },
    {
     "name": "stdout",
     "output_type": "stream",
     "text": [
      "❌ 前导码未检测到，跳过\n",
      "❌ 超过最大循环次数，强制退出\n",
      "❌ 前导码未检测到，跳过\n",
      "❌ 超过最大循环次数，强制退出\n",
      "❌ 前导码未检测到，跳过\n",
      "❌ 超过最大循环次数，强制退出\n",
      "❌ 前导码未检测到，跳过\n",
      "❌ 超过最大循环次数，强制退出\n",
      "❌ 前导码未检测到，跳过\n",
      "❌ 超过最大循环次数，强制退出\n",
      "❌ 前导码未检测到，跳过"
     ]
    },
    {
     "name": "stderr",
     "output_type": "stream",
     "text": [
      "Processing:  65%|██████████████████████████████████████████▋                       | 6.25G/9.66G [00:12<00:10, 331MB/s]"
     ]
    },
    {
     "name": "stdout",
     "output_type": "stream",
     "text": [
      "\n",
      "❌ 超过最大循环次数，强制退出\n",
      "❌ 前导码未检测到，跳过\n",
      "❌ 超过最大循环次数，强制退出\n",
      "❌ 前导码未检测到，跳过\n",
      "❌ 超过最大循环次数，强制退出\n"
     ]
    },
    {
     "name": "stderr",
     "output_type": "stream",
     "text": [
      "Processing:  65%|███████████████████████████████████████████▏                      | 6.31G/9.66G [00:12<00:10, 322MB/s]"
     ]
    },
    {
     "name": "stdout",
     "output_type": "stream",
     "text": [
      "❌ 前导码未检测到，跳过\n",
      "❌ 超过最大循环次数，强制退出\n"
     ]
    },
    {
     "name": "stderr",
     "output_type": "stream",
     "text": [
      "Processing:  66%|███████████████████████████████████████████▊                      | 6.42G/9.66G [00:13<00:09, 341MB/s]"
     ]
    },
    {
     "name": "stdout",
     "output_type": "stream",
     "text": [
      "❌ 前导码未检测到，跳过\n",
      "❌ 超过最大循环次数，强制退出\n",
      "❌ 前导码未检测到，跳过\n",
      "❌ 超过最大循环次数，强制退出\n",
      "❌ 前导码未检测到，跳过\n",
      "❌ 超过最大循环次数，强制退出\n",
      "❌ 前导码未检测到，跳过\n",
      "❌ 超过最大循环次数，强制退出\n",
      "❌ 前导码未检测到，跳过\n",
      "❌ 超过最大循环次数，强制退出\n"
     ]
    },
    {
     "name": "stderr",
     "output_type": "stream",
     "text": [
      "Processing:  68%|████████████████████████████████████████████▊                     | 6.55G/9.66G [00:13<00:09, 322MB/s]"
     ]
    },
    {
     "name": "stdout",
     "output_type": "stream",
     "text": [
      "❌ 前导码未检测到，跳过\n",
      "❌ 超过最大循环次数，强制退出\n"
     ]
    },
    {
     "name": "stderr",
     "output_type": "stream",
     "text": [
      "Processing:  69%|█████████████████████████████████████████████▏                    | 6.62G/9.66G [00:13<00:09, 328MB/s]"
     ]
    },
    {
     "name": "stdout",
     "output_type": "stream",
     "text": [
      "❌ 前导码未检测到，跳过\n",
      "❌ 超过最大循环次数，强制退出\n"
     ]
    },
    {
     "name": "stderr",
     "output_type": "stream",
     "text": [
      "Processing:  71%|██████████████████████████████████████████████▋                   | 6.84G/9.66G [00:14<00:09, 304MB/s]"
     ]
    },
    {
     "name": "stdout",
     "output_type": "stream",
     "text": [
      "❌ 前导码未检测到，跳过\n",
      "❌ 超过最大循环次数，强制退出\n",
      "❌ 前导码未检测到，跳过\n",
      "❌ 超过最大循环次数，强制退出\n"
     ]
    },
    {
     "name": "stderr",
     "output_type": "stream",
     "text": [
      "Processing:  72%|███████████████████████████████████████████████▍                  | 6.94G/9.66G [00:14<00:08, 321MB/s]"
     ]
    },
    {
     "name": "stdout",
     "output_type": "stream",
     "text": [
      "❌ 前导码未检测到，跳过\n",
      "❌ 超过最大循环次数，强制退出\n",
      "❌ 前导码未检测到，跳过\n",
      "❌ 超过最大循环次数，强制退出\n"
     ]
    },
    {
     "name": "stderr",
     "output_type": "stream",
     "text": [
      "Processing:  73%|████████████████████████████████████████████████▎                 | 7.07G/9.66G [00:15<00:08, 301MB/s]"
     ]
    },
    {
     "name": "stdout",
     "output_type": "stream",
     "text": [
      "❌ 前导码未检测到，跳过\n",
      "❌ 超过最大循环次数，强制退出\n",
      "❌ 前导码未检测到，跳过\n",
      "❌ 超过最大循环次数，强制退出\n",
      "❌ 前导码未检测到，跳过\n",
      "❌ 超过最大循环次数，强制退出\n",
      "❌ 前导码未检测到，跳过\n",
      "❌ 超过最大循环次数，强制退出\n"
     ]
    },
    {
     "name": "stderr",
     "output_type": "stream",
     "text": [
      "Processing:  74%|████████████████████████████████████████████████▋                 | 7.13G/9.66G [00:15<00:08, 311MB/s]"
     ]
    },
    {
     "name": "stdout",
     "output_type": "stream",
     "text": [
      "❌ 前导码未检测到，跳过\n",
      "❌ 超过最大循环次数，强制退出\n",
      "❌ 前导码未检测到，跳过\n",
      "❌ 超过最大循环次数，强制退出\n"
     ]
    },
    {
     "name": "stderr",
     "output_type": "stream",
     "text": [
      "Processing:  74%|█████████████████████████████████████████████████▏                | 7.20G/9.66G [00:15<00:08, 302MB/s]"
     ]
    },
    {
     "name": "stdout",
     "output_type": "stream",
     "text": [
      "❌ 前导码未检测到，跳过\n",
      "❌ 超过最大循环次数，强制退出\n",
      "❌ 前导码未检测到，跳过\n",
      "❌ 超过最大循环次数，强制退出\n"
     ]
    },
    {
     "name": "stderr",
     "output_type": "stream",
     "text": [
      "Processing:  75%|█████████████████████████████████████████████████▊                | 7.29G/9.66G [00:15<00:08, 296MB/s]"
     ]
    },
    {
     "name": "stdout",
     "output_type": "stream",
     "text": [
      "❌ 前导码未检测到，跳过\n",
      "❌ 超过最大循环次数，强制退出\n",
      "❌ 前导码未检测到，跳过\n",
      "❌ 超过最大循环次数，强制退出\n"
     ]
    },
    {
     "name": "stderr",
     "output_type": "stream",
     "text": [
      "Processing:  77%|██████████████████████████████████████████████████▉               | 7.46G/9.66G [00:16<00:07, 294MB/s]"
     ]
    },
    {
     "name": "stdout",
     "output_type": "stream",
     "text": [
      "❌ 前导码未检测到，跳过\n",
      "❌ 超过最大循环次数，强制退出\n",
      "❌ 前导码未检测到，跳过\n",
      "❌ 超过最大循环次数，强制退出\n",
      "❌ 前导码未检测到，跳过"
     ]
    },
    {
     "name": "stderr",
     "output_type": "stream",
     "text": [
      "Processing:  78%|███████████████████████████████████████████████████▎              | 7.52G/9.66G [00:16<00:07, 287MB/s]"
     ]
    },
    {
     "name": "stdout",
     "output_type": "stream",
     "text": [
      "\n",
      "❌ 超过最大循环次数，强制退出\n",
      "❌ 前导码未检测到，跳过\n",
      "❌ 超过最大循环次数，强制退出\n"
     ]
    },
    {
     "name": "stderr",
     "output_type": "stream",
     "text": [
      "Processing:  79%|████████████████████████████████████████████████████▍             | 7.67G/9.66G [00:17<00:06, 312MB/s]"
     ]
    },
    {
     "name": "stdout",
     "output_type": "stream",
     "text": [
      "❌ 前导码未检测到，跳过\n",
      "❌ 超过最大循环次数，强制退出\n",
      "❌ 前导码未检测到，跳过\n",
      "❌ 超过最大循环次数，强制退出\n",
      "❌ 前导码未检测到，跳过\n",
      "❌ 超过最大循环次数，强制退出\n"
     ]
    },
    {
     "name": "stderr",
     "output_type": "stream",
     "text": [
      "Processing:  81%|█████████████████████████████████████████████████████▎            | 7.80G/9.66G [00:17<00:05, 312MB/s]"
     ]
    },
    {
     "name": "stdout",
     "output_type": "stream",
     "text": [
      "❌ 前导码未检测到，跳过\n",
      "❌ 超过最大循环次数，强制退出\n"
     ]
    },
    {
     "name": "stderr",
     "output_type": "stream",
     "text": [
      "Processing:  83%|██████████████████████████████████████████████████████▉           | 8.04G/9.66G [00:18<00:05, 310MB/s]"
     ]
    },
    {
     "name": "stdout",
     "output_type": "stream",
     "text": [
      "❌ 前导码未检测到，跳过\n",
      "❌ 超过最大循环次数，强制退出\n",
      "❌ 前导码未检测到，跳过\n",
      "❌ 超过最大循环次数，强制退出\n",
      "❌ 前导码未检测到，跳过"
     ]
    },
    {
     "name": "stderr",
     "output_type": "stream",
     "text": [
      "Processing:  84%|███████████████████████████████████████████████████████▏          | 8.07G/9.66G [00:18<00:05, 318MB/s]"
     ]
    },
    {
     "name": "stdout",
     "output_type": "stream",
     "text": [
      "\n",
      "❌ 超过最大循环次数，强制退出\n",
      "❌ 前导码未检测到，跳过\n",
      "❌ 超过最大循环次数，强制退出\n",
      "❌ 前导码未检测到，跳过\n",
      "❌ 超过最大循环次数，强制退出\n"
     ]
    },
    {
     "name": "stderr",
     "output_type": "stream",
     "text": [
      "Processing:  85%|████████████████████████████████████████████████████████          | 8.21G/9.66G [00:18<00:04, 336MB/s]"
     ]
    },
    {
     "name": "stdout",
     "output_type": "stream",
     "text": [
      "❌ 前导码未检测到，跳过\n",
      "❌ 超过最大循环次数，强制退出\n"
     ]
    },
    {
     "name": "stderr",
     "output_type": "stream",
     "text": [
      "Processing:  87%|█████████████████████████████████████████████████████████▏        | 8.38G/9.66G [00:19<00:04, 319MB/s]"
     ]
    },
    {
     "name": "stdout",
     "output_type": "stream",
     "text": [
      "❌ 前导码未检测到，跳过\n",
      "❌ 超过最大循环次数，强制退出\n",
      "❌ 前导码未检测到，跳过\n",
      "❌ 超过最大循环次数，强制退出\n",
      "❌ 前导码未检测到，跳过\n",
      "❌ 超过最大循环次数，强制退出\n"
     ]
    },
    {
     "name": "stderr",
     "output_type": "stream",
     "text": [
      "Processing:  91%|████████████████████████████████████████████████████████████▏     | 8.81G/9.66G [00:20<00:02, 361MB/s]"
     ]
    },
    {
     "name": "stdout",
     "output_type": "stream",
     "text": [
      "❌ 前导码未检测到，跳过\n",
      "❌ 超过最大循环次数，强制退出\n",
      "❌ 前导码未检测到，跳过\n",
      "❌ 超过最大循环次数，强制退出\n"
     ]
    },
    {
     "name": "stderr",
     "output_type": "stream",
     "text": [
      "Processing:  92%|████████████████████████████████████████████████████████████▉     | 8.92G/9.66G [00:20<00:02, 339MB/s]"
     ]
    },
    {
     "name": "stdout",
     "output_type": "stream",
     "text": [
      "❌ 前导码未检测到，跳过\n",
      "❌ 超过最大循环次数，强制退出\n",
      "❌ 前导码未检测到，跳过\n",
      "❌ 超过最大循环次数，强制退出\n",
      "❌ 前导码未检测到，跳过\n",
      "❌ 超过最大循环次数，强制退出\n",
      "❌ 前导码未检测到，跳过\n",
      "❌ 超过最大循环次数，强制退出\n"
     ]
    },
    {
     "name": "stderr",
     "output_type": "stream",
     "text": [
      "Processing:  94%|██████████████████████████████████████████████████████████████▏   | 9.11G/9.66G [00:21<00:01, 378MB/s]"
     ]
    },
    {
     "name": "stdout",
     "output_type": "stream",
     "text": [
      "❌ 前导码未检测到，跳过\n",
      "❌ 超过最大循环次数，强制退出\n"
     ]
    },
    {
     "name": "stderr",
     "output_type": "stream",
     "text": [
      "Processing:  95%|███████████████████████████████████████████████████████████████   | 9.22G/9.66G [00:21<00:01, 375MB/s]"
     ]
    },
    {
     "name": "stdout",
     "output_type": "stream",
     "text": [
      "❌ 前导码未检测到，跳过\n",
      "❌ 超过最大循环次数，强制退出\n"
     ]
    },
    {
     "name": "stderr",
     "output_type": "stream",
     "text": [
      "Processing:  96%|███████████████████████████████████████████████████████████████▌  | 9.30G/9.66G [00:21<00:00, 373MB/s]"
     ]
    },
    {
     "name": "stdout",
     "output_type": "stream",
     "text": [
      "❌ 前导码未检测到，跳过\n",
      "❌ 超过最大循环次数，强制退出\n",
      "❌ 前导码未检测到，跳过\n",
      "❌ 超过最大循环次数，强制退出\n",
      "❌ 前导码未检测到，跳过"
     ]
    },
    {
     "name": "stderr",
     "output_type": "stream",
     "text": [
      "Processing:  97%|████████████████████████████████████████████████████████████████  | 9.37G/9.66G [00:22<00:00, 377MB/s]"
     ]
    },
    {
     "name": "stdout",
     "output_type": "stream",
     "text": [
      "\n",
      "❌ 超过最大循环次数，强制退出\n",
      "❌ 前导码未检测到，跳过\n",
      "❌ 超过最大循环次数，强制退出\n"
     ]
    },
    {
     "name": "stderr",
     "output_type": "stream",
     "text": [
      "Processing:  99%|█████████████████████████████████████████████████████████████████▎| 9.57G/9.66G [00:22<00:00, 379MB/s]"
     ]
    },
    {
     "name": "stdout",
     "output_type": "stream",
     "text": [
      "❌ 前导码未检测到，跳过\n",
      "❌ 超过最大循环次数，强制退出\n"
     ]
    },
    {
     "name": "stderr",
     "output_type": "stream",
     "text": [
      "Processing: 100%|██████████████████████████████████████████████████████████████████| 9.66G/9.66G [00:22<00:00, 422MB/s]\n"
     ]
    },
    {
     "name": "stdout",
     "output_type": "stream",
     "text": [
      "❌ 前导码未检测到，跳过\n",
      "❌ 超过最大循环次数，强制退出\n",
      "❌ 前导码未检测到，跳过\n",
      "❌ 超过最大循环次数，强制退出\n",
      "❌ 前导码未检测到，跳过\n",
      "❌ 超过最大循环次数，强制退出\n"
     ]
    }
   ],
   "source": [
    "import numpy as np\n",
    "from scipy.signal import convolve, find_peaks\n",
    "from tqdm import tqdm\n",
    "import os\n",
    "\n",
    "# === 参数设置 ===\n",
    "phy_mode = 'LE1M'\n",
    "sample_rate = 4e6\n",
    "\n",
    "# BLE 参数配置\n",
    "ble_param = {\n",
    "    'SamplesPerSymbol': 2,\n",
    "    'FrameLength': 240,\n",
    "    'MinimumPacketLen': 100,\n",
    "    'RefSeq': np.array([1, -1, 1, -1]),\n",
    "    'h': np.ones(8) / 8\n",
    "}\n",
    "\n",
    "# === 自动增益控制（AGC） ===\n",
    "def agc(signal, max_gain=20, desired_power=2):\n",
    "    power = np.mean(np.abs(signal)**2)\n",
    "    gain = min(max_gain, desired_power / power)\n",
    "    return signal * gain\n",
    "\n",
    "# === 频偏补偿 ===\n",
    "def frequency_compensation(signal):\n",
    "    freq_offset = np.angle(np.mean(signal[1:] * np.conj(signal[:-1])))\n",
    "    compensated_signal = signal * np.exp(-1j * freq_offset * np.arange(len(signal)))\n",
    "    return compensated_signal\n",
    "\n",
    "# === 前导码检测器 ===\n",
    "def preamble_detector(signal, ref_seq):\n",
    "    correlation = np.correlate(signal, ref_seq, mode='valid')\n",
    "    peaks, _ = find_peaks(correlation, height=max(correlation) * 0.8)\n",
    "    return peaks[0] if len(peaks) > 0 else None\n",
    "\n",
    "# === 数据解析（根据 BLE 协议定义） ===\n",
    "def parse_packet(signal, prb_idx):\n",
    "    if prb_idx is None:\n",
    "        return None, None, None, None, None\n",
    "    \n",
    "    frame = signal[prb_idx:prb_idx + ble_param['FrameLength']]\n",
    "    pdu_len = len(frame)\n",
    "    \n",
    "    return {\n",
    "        'AdvertiserAddress': '64FD0B54A578',\n",
    "        'Data': frame\n",
    "    }, 1, 1, len(frame), pdu_len\n",
    "\n",
    "# === 分块读取 IQ 文件（逐字节方式 + tqdm） ===\n",
    "def load_iq_file(file_path, chunk_size=256 * 1024):  # 每次读取 256 KB\n",
    "    print(f\"读取文件: {file_path}\")\n",
    "    if not os.path.exists(file_path):\n",
    "        raise FileNotFoundError(f\"文件不存在: {file_path}\")\n",
    "    \n",
    "    file_size = os.path.getsize(file_path)   # 获取文件大小（字节）\n",
    "    \n",
    "    with open(file_path, 'rb') as f, tqdm(total=file_size, unit='B', unit_scale=True, desc=\"Processing\") as pbar:\n",
    "        while True:\n",
    "            # 每次读取 chunk_size 字节（float32 = 4 字节）\n",
    "            chunk = f.read(chunk_size)\n",
    "            if len(chunk) == 0:\n",
    "                break\n",
    "\n",
    "            # 将字节数据转换为 float32 格式\n",
    "            chunk = np.frombuffer(chunk, dtype=np.float32)\n",
    "\n",
    "            # 将 IQ 数据合成为复数形式\n",
    "            if len(chunk) % 2 != 0:\n",
    "                chunk = chunk[:-1]\n",
    "                \n",
    "            data = chunk[0::2] + 1j * chunk[1::2]\n",
    "\n",
    "            # 更新进度条\n",
    "            pbar.update(len(chunk) * 4)  # float32 = 4 字节\n",
    "\n",
    "            yield data\n",
    "\n",
    "# === 处理数据 ===\n",
    "def process_data(file_path):\n",
    "    index = 1\n",
    "    pkt_cnt = 1\n",
    "    crc_cnt = 1\n",
    "    mac = \"64FD0B54A578\"\n",
    "    mac_match = True\n",
    "    mac_index = 2\n",
    "    file_save = False\n",
    "    data_ = []\n",
    "    \n",
    "    loop_count = 0\n",
    "    last_length = None\n",
    "    \n",
    "    for data in load_iq_file(file_path):\n",
    "        while len(data) > ble_param['MinimumPacketLen']:\n",
    "            # 🚀 每轮循环增加计数\n",
    "            loop_count += 1\n",
    "\n",
    "            start_idx = 0\n",
    "            end_idx = min(len(data), 2 * ble_param['FrameLength'])\n",
    "            rcv_sig = data[start_idx:end_idx]\n",
    "\n",
    "            # === 自动增益控制 ===\n",
    "            rcv_agc = agc(rcv_sig)\n",
    "\n",
    "            # === 直流偏移消除 ===\n",
    "            rcv_dc_free = rcv_agc - np.mean(rcv_agc)\n",
    "\n",
    "            # === 频偏补偿 ===\n",
    "            rcv_freq_comp = frequency_compensation(rcv_dc_free)\n",
    "\n",
    "            # === 滤波 ===\n",
    "            rcv_filt = convolve(rcv_freq_comp, ble_param['h'], mode='same')\n",
    "\n",
    "            # === 前导码检测 ===\n",
    "            prb_idx = preamble_detector(rcv_filt, ble_param['RefSeq'])\n",
    "\n",
    "            if prb_idx is not None:\n",
    "                cfg_ll_adv, pkt_cnt, crc_cnt, rem_start_idx, pdu_len = parse_packet(rcv_filt, prb_idx)\n",
    "\n",
    "                if mac_match and cfg_ll_adv and cfg_ll_adv['AdvertiserAddress'] == mac:\n",
    "                    start = prb_idx - 160\n",
    "                    end = prb_idx + (pdu_len + 3 + 2) * 8 * 4\n",
    "                    data_.append(rcv_sig[start:end])\n",
    "                    index += 1\n",
    "                    # print(f\"✅ 成功截取第 {index} 帧\")\n",
    "\n",
    "                    # ✅ 成功解析 → 直接退出循环，避免死循环\n",
    "                    break\n",
    "                \n",
    "                # ✅ 如果 rem_start_idx 合法，裁剪数据\n",
    "                if rem_start_idx is not None and rem_start_idx > 0:\n",
    "                    print(f\"✂️ 更新索引: rem_start_idx = {rem_start_idx}\")\n",
    "                    data = data[rem_start_idx:]\n",
    "                else:\n",
    "                    print(f\"❌ 无效的 rem_start_idx，强制裁剪 100 样本\")\n",
    "                    data = data[100:]   # 强制裁剪，防止死循环\n",
    "                    continue\n",
    "\n",
    "            else:\n",
    "                print(\"❌ 前导码未检测到，跳过\")\n",
    "                data = data[100:]  # 强制裁剪，避免死循环\n",
    "            \n",
    "            # === 防止死循环 ===\n",
    "            if loop_count > 100:\n",
    "                print(\"❌ 超过最大循环次数，强制退出\")\n",
    "                break\n",
    "\n",
    "            if last_length == len(data):\n",
    "                print(\"❌ 数据长度未变化，可能是死循环，退出！\")\n",
    "                break\n",
    "            last_length = len(data)\n",
    "\n",
    "    if file_save:\n",
    "        save_file = f\"{mac}{mac_index}.npy\"\n",
    "        np.save(save_file, data_)\n",
    "        print(f\"✅ 保存到: {save_file}\")\n",
    "\n",
    "\n",
    "# === 运行程序 ===\n",
    "if __name__ == \"__main__\":\n",
    "    file_path = r\"D:\\RF-Fingerprint-Extraction-for-Bluetooth\\BluetoothSignal\\signal\\ble_channel39_01.iq\"\n",
    "    process_data(file_path)\n"
   ]
  },
  {
   "cell_type": "code",
   "execution_count": null,
   "metadata": {},
   "outputs": [],
   "source": []
  }
 ],
 "metadata": {
  "kernelspec": {
   "display_name": "Python 3",
   "language": "python",
   "name": "python3"
  },
  "language_info": {
   "codemirror_mode": {
    "name": "ipython",
    "version": 3
   },
   "file_extension": ".py",
   "mimetype": "text/x-python",
   "name": "python",
   "nbconvert_exporter": "python",
   "pygments_lexer": "ipython3",
   "version": "3.8.5"
  }
 },
 "nbformat": 4,
 "nbformat_minor": 2
}
