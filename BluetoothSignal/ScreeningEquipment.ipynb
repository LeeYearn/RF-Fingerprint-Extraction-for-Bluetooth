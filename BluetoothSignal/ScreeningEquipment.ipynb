{
 "cells": [
  {
   "cell_type": "code",
   "execution_count": 4,
   "metadata": {},
   "outputs": [],
   "source": [
    "from scapy.all import *\n",
    "from scapy.layers.bluetooth import *\n",
    "import numpy as np"
   ]
  },
  {
   "cell_type": "code",
   "execution_count": 6,
   "metadata": {},
   "outputs": [],
   "source": [
    "# 读取 IQ 数据文件\n",
    "files = \"D:\\\\RF-Fingerprint-Extraction-for-Bluetooth\\\\BluetoothSignal\\\\signal\\\\ble_channel39_01.dat\"\n",
    "data = np.fromfile(files, dtype=np.complex64)"
   ]
  },
  {
   "cell_type": "code",
   "execution_count": 7,
   "metadata": {},
   "outputs": [],
   "source": [
    "# 将 IQ 数据转换为字节流\n",
    "packets = BTLE(data.tobytes())"
   ]
  },
  {
   "cell_type": "code",
   "execution_count": 9,
   "metadata": {},
   "outputs": [],
   "source": [
    "# 筛选目标设备的 MAC 地址\n",
    "target_mac = '60:ab:d2:45:cc:ee'\n",
    "for pkt in packets:\n",
    "    if BTLE_ADV in pkt and pkt.addr == target_mac:\n",
    "        print(f\"Captured packet from target device: {pkt.show()}\")"
   ]
  },
  {
   "cell_type": "code",
   "execution_count": null,
   "metadata": {},
   "outputs": [],
   "source": []
  }
 ],
 "metadata": {
  "kernelspec": {
   "display_name": "Python (yolov8)",
   "language": "python",
   "name": "yolov8"
  }
 },
 "nbformat": 4,
 "nbformat_minor": 2
}
